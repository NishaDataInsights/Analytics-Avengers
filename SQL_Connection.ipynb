{
 "cells": [
  {
   "cell_type": "code",
   "execution_count": 1,
   "id": "426560db-6ea2-4e6c-b25d-b4a27d62c6f4",
   "metadata": {},
   "outputs": [
    {
     "name": "stdout",
     "output_type": "stream",
     "text": [
      "Requirement already satisfied: sqlalchemy in c:\\users\\nisha\\anaconda3\\lib\\site-packages (2.0.34)\n",
      "Requirement already satisfied: pymysql in c:\\users\\nisha\\anaconda3\\lib\\site-packages (1.1.1)\n",
      "Requirement already satisfied: typing-extensions>=4.6.0 in c:\\users\\nisha\\anaconda3\\lib\\site-packages (from sqlalchemy) (4.11.0)\n",
      "Requirement already satisfied: greenlet!=0.4.17 in c:\\users\\nisha\\anaconda3\\lib\\site-packages (from sqlalchemy) (3.0.1)\n",
      "Note: you may need to restart the kernel to use updated packages.\n"
     ]
    }
   ],
   "source": [
    "pip install sqlalchemy pymysql"
   ]
  },
  {
   "cell_type": "code",
   "execution_count": 2,
   "id": "016d0271-840a-460d-8cdd-3162c336a120",
   "metadata": {},
   "outputs": [],
   "source": [
    "from sqlalchemy import create_engine\n",
    "import pandas as pd\n"
   ]
  },
  {
   "cell_type": "code",
   "execution_count": 5,
   "id": "8fb70915-424b-461a-a00d-af0e5a5aae04",
   "metadata": {},
   "outputs": [
    {
     "name": "stdout",
     "output_type": "stream",
     "text": [
      "Database connection successful.\n",
      "brk-a data uploaded successfully.\n",
      "dunt data uploaded successfully.\n",
      "dpz data uploaded successfully.\n",
      "lkncy data uploaded successfully.\n",
      "mcd data uploaded successfully.\n",
      "pzza data uploaded successfully.\n",
      "qsr data uploaded successfully.\n",
      "sbux data uploaded successfully.\n",
      "wen data uploaded successfully.\n",
      "yum data uploaded successfully.\n",
      "Data upload process completed.\n"
     ]
    }
   ],
   "source": [
    "import pandas as pd\n",
    "from sqlalchemy import create_engine\n",
    "from urllib.parse import quote_plus  # Safely encode special characters in the password\n",
    "\n",
    "# Database connection configuration\n",
    "username = 'root'\n",
    "password = quote_plus('nisharana23.')  # Encode special characters in the password\n",
    "host = 'localhost'\n",
    "port = 3306\n",
    "database = 'fast_food_db'\n",
    "\n",
    "# Create the connection URL\n",
    "connection_url = f'mysql+pymysql://{username}:{password}@{host}:{port}/{database}'\n",
    "\n",
    "# Initialize the database engine\n",
    "try:\n",
    "    engine = create_engine(connection_url)\n",
    "    print(\"Database connection successful.\")\n",
    "except Exception as e:\n",
    "    print(f\"Error connecting to the database: {e}\")\n",
    "    exit()\n",
    "\n",
    "# List of CSV files and table names\n",
    "data_files = {\n",
    "    \"BRK-A_clean.csv\": \"brk-a\",\n",
    "    \"DNUT_clean.csv\": \"dunt\",\n",
    "    \"DPZ_clean.csv\": \"dpz\",\n",
    "    \"LKNCY_clean.csv\": \"lkncy\",\n",
    "    \"MCD_clean.csv\": \"mcd\",\n",
    "    \"PZZA_clean.csv\": \"pzza\",\n",
    "    \"QSR_clean.csv\": \"qsr\",\n",
    "    \"SBUX_clean.csv\": \"sbux\",\n",
    "    \"WEN_clean.csv\": \"wen\",\n",
    "    \"YUM_clean.csv\": \"yum\",\n",
    "\n",
    "}\n",
    "\n",
    "# Upload each DataFrame to the database\n",
    "for file_name, table_name in data_files.items():\n",
    "    try:\n",
    "        # Read CSV\n",
    "        df = pd.read_csv(file_name)\n",
    "        # Upload to database\n",
    "        df.to_sql(table_name, con=engine, if_exists='replace', index=False)\n",
    "        print(f\"{table_name} data uploaded successfully.\")\n",
    "    except FileNotFoundError:\n",
    "        print(f\"File '{file_name}' not found. Skipping...\")\n",
    "    except Exception as e:\n",
    "        print(f\"Failed to upload '{table_name}': {e}\")\n",
    "\n",
    "print(\"Data upload process completed.\")\n"
   ]
  },
  {
   "cell_type": "code",
   "execution_count": null,
   "id": "95fe5dec-68cb-416d-8abc-d328b0953492",
   "metadata": {},
   "outputs": [],
   "source": []
  }
 ],
 "metadata": {
  "kernelspec": {
   "display_name": "Python [conda env:base] *",
   "language": "python",
   "name": "conda-base-py"
  },
  "language_info": {
   "codemirror_mode": {
    "name": "ipython",
    "version": 3
   },
   "file_extension": ".py",
   "mimetype": "text/x-python",
   "name": "python",
   "nbconvert_exporter": "python",
   "pygments_lexer": "ipython3",
   "version": "3.12.7"
  }
 },
 "nbformat": 4,
 "nbformat_minor": 5
}
